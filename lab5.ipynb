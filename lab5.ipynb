{
 "cells": [
  {
   "cell_type": "markdown",
   "metadata": {
    "collapsed": true,
    "pycharm": {
     "name": "#%% md\n"
    }
   },
   "source": [
    "# <center> Zestaw 5\n",
    "## <center> Ryszard Pręcikowski\n",
    "### <center> 401433"
   ]
  },
  {
   "cell_type": "code",
   "execution_count": 1,
   "outputs": [],
   "source": [
    "import numpy as np\n",
    "from sympy import *\n",
    "from sympy.abc import x\n",
    "import matplotlib.pyplot as plt\n",
    "from enum import Enum\n",
    "import matplotlib\n",
    "from scipy.integrate import quad\n",
    "np.set_printoptions(precision=3, suppress=True)"
   ],
   "metadata": {
    "collapsed": false,
    "pycharm": {
     "name": "#%%\n"
    }
   }
  },
  {
   "cell_type": "code",
   "execution_count": 2,
   "outputs": [
    {
     "data": {
      "text/plain": "<Figure size 432x288 with 1 Axes>",
      "image/png": "[encoded data removed]"
     },
     "metadata": {
      "needs_background": "light"
     },
     "output_type": "display_data"
    }
   ],
   "source": [
    "f = 2 / (1 + x**2)\n",
    "a = -1\n",
    "b = 1\n",
    "\n",
    "lf = lambdify(x, f)\n",
    "x_v = np.linspace(a, b, 1000)\n",
    "\n",
    "plt.plot(x_v, lf(x_v), label = \"f(x) = 1 / (1 + 25 * x**2)\")\n",
    "plt.legend()\n",
    "plt.grid(True)\n",
    "plt.show()"
   ],
   "metadata": {
    "collapsed": false,
    "pycharm": {
     "name": "#%%\n"
    }
   }
  },
  {
   "cell_type": "code",
   "execution_count": 49,
   "outputs": [
    {
     "data": {
      "text/plain": "3.1372549019607843"
     },
     "execution_count": 49,
     "metadata": {},
     "output_type": "execute_result"
    }
   ],
   "source": [
    "class Mode(Enum):\n",
    "    MIDPOINT = 0\n",
    "    TRAPEZOIDAL = 1\n",
    "    SIMPSON_PARABOLIC = 2\n",
    "    SIMPSON_CUBIC = 3\n",
    "    GAUSS_LEGENDRE = 4\n",
    "\n",
    "\n",
    "\n",
    "def my_integrate(f, m, mode, a, b):\n",
    "    def fk(k):\n",
    "        # print(\"fk(\", a + k * h,\") = \",  lf(a + k * h))\n",
    "        return lf(a + k * h)\n",
    "\n",
    "    h = (b-a)/(m)\n",
    "    lf = lambdify(x, f)\n",
    "    # print(\"h\", h)\n",
    "\n",
    "    if mode == Mode.MIDPOINT:\n",
    "        res = 0\n",
    "        for k in range(m):\n",
    "            res += fk(k + 0.5)\n",
    "        res *= h\n",
    "\n",
    "    if mode == Mode.TRAPEZOIDAL:\n",
    "        res = fk(0) + fk(m)\n",
    "        for k in range(1, m):\n",
    "            res += 2 * fk(k)\n",
    "\n",
    "        res *= h /2\n",
    "\n",
    "    if mode == Mode.SIMPSON_PARABOLIC:\n",
    "        res = fk(0) + fk(m)\n",
    "        for k in range(1, m):\n",
    "            if k % 2 == 0:\n",
    "                res += 2* fk(k)\n",
    "            else:\n",
    "                res += 4* fk(k)\n",
    "\n",
    "        res *= h / 3\n",
    "\n",
    "    if mode == Mode.SIMPSON_CUBIC:\n",
    "        res = fk(0) + fk(m)\n",
    "\n",
    "        for k in range(1, m):\n",
    "            if k % 3 == 0:\n",
    "                res += 2* fk(k)\n",
    "            else:\n",
    "                res += 3* fk(k)\n",
    "\n",
    "        res *= 3*h / 8\n",
    "\n",
    "    if mode == Mode.GAUSS_LEGENDRE:\n",
    "        res = Gauss_Legendre(f, m, a, b)\n",
    "\n",
    "    return res\n",
    "\n",
    "def Gauss_Legendre(f, m, a, b):\n",
    "    p = legendre_poly(m, x, polys=True)\n",
    "    r = p.real_roots()\n",
    "    p_diff = diff(p, x)\n",
    "\n",
    "    lf = lambdify(x, f)\n",
    "\n",
    "    res = 0\n",
    "\n",
    "    for xd in r:\n",
    "        # print(xd)\n",
    "        if xd == 0 or type(xd) == Mul:\n",
    "            x_v = xd\n",
    "        else:\n",
    "            x_v = xd.eval_rational()\n",
    "        w = 2 / ((1 - x_v**2) * (p_diff(x_v)** 2))\n",
    "        # print(float(x_v), float(w))\n",
    "        res += w * lf(x_v)\n",
    "\n",
    "    # print(float(res))\n",
    "    return float(res)\n",
    "\n",
    "\n",
    "# f = x ** 3\n",
    "# f = sqrt(1 + x**2)\n",
    "# f = 2 / (1 + x**2)\n",
    "# f = 1/x\n",
    "my_integrate(f, 4, Mode.GAUSS_LEGENDRE, a, b)"
   ],
   "metadata": {
    "collapsed": false,
    "pycharm": {
     "name": "#%%\n"
    }
   }
  },
  {
   "cell_type": "code",
   "execution_count": 49,
   "outputs": [],
   "source": [],
   "metadata": {
    "collapsed": false,
    "pycharm": {
     "name": "#%%\n"
    }
   }
  },
  {
   "cell_type": "code",
   "execution_count": 51,
   "outputs": [
    {
     "name": "stdout",
     "output_type": "stream",
     "text": [
      "n 2\n",
      "true val pi = 3.141592653589793\n",
      "\n",
      "Mode.MIDPOINT\n",
      "integral from -1 to 1 from 2/(x**2 + 1) = 3.2\n",
      "Mode.TRAPEZOIDAL\n",
      "integral from -1 to 1 from 2/(x**2 + 1) = 3.0\n",
      "Mode.SIMPSON_PARABOLIC\n",
      "integral from -1 to 1 from 2/(x**2 + 1) = 3.333333333333333\n",
      "Mode.SIMPSON_CUBIC\n",
      "integral from -1 to 1 from 2/(x**2 + 1) = 3.0\n",
      "Mode.GAUSS_LEGENDRE\n",
      "integral from -1 to 1 from 2/(x**2 + 1) = 3.0\n",
      "\n",
      "n 3\n",
      "true val pi = 3.141592653589793\n",
      "\n",
      "Mode.MIDPOINT\n",
      "integral from -1 to 1 from 2/(x**2 + 1) = 3.1794871794871793\n",
      "Mode.TRAPEZOIDAL\n",
      "integral from -1 to 1 from 2/(x**2 + 1) = 3.0666666666666664\n",
      "Mode.SIMPSON_PARABOLIC\n",
      "integral from -1 to 1 from 2/(x**2 + 1) = 2.844444444444444\n",
      "Mode.SIMPSON_CUBIC\n",
      "integral from -1 to 1 from 2/(x**2 + 1) = 3.1999999999999997\n",
      "Mode.GAUSS_LEGENDRE\n",
      "integral from -1 to 1 from 2/(x**2 + 1) = 3.1666666666666665\n",
      "\n",
      "n 4\n",
      "true val pi = 3.141592653589793\n",
      "\n",
      "Mode.MIDPOINT\n",
      "integral from -1 to 1 from 2/(x**2 + 1) = 3.162352941176471\n",
      "Mode.TRAPEZOIDAL\n",
      "integral from -1 to 1 from 2/(x**2 + 1) = 3.0999999999999996\n",
      "Mode.SIMPSON_PARABOLIC\n",
      "integral from -1 to 1 from 2/(x**2 + 1) = 3.1333333333333333\n",
      "Mode.SIMPSON_CUBIC\n",
      "integral from -1 to 1 from 2/(x**2 + 1) = 3.0\n",
      "Mode.GAUSS_LEGENDRE\n",
      "integral from -1 to 1 from 2/(x**2 + 1) = 3.1372549019607843\n",
      "\n"
     ]
    }
   ],
   "source": [
    "for n in range(2,5):\n",
    "    print(\"n\", n)\n",
    "    true_val = integrate(f, (x, a, b))\n",
    "    print(\"true val\", true_val, \"=\", float(true_val))\n",
    "    print()\n",
    "    for mode in Mode:\n",
    "        res = my_integrate(f, n, mode, a, b)\n",
    "        print(mode)\n",
    "        print(\"integral from\", a, \"to\", b, \"from\", f, \"=\", res)\n",
    "    print()"
   ],
   "metadata": {
    "collapsed": false,
    "pycharm": {
     "name": "#%%\n"
    }
   }
  },
  {
   "cell_type": "code",
   "execution_count": 42,
   "outputs": [],
   "source": [],
   "metadata": {
    "collapsed": false,
    "pycharm": {
     "name": "#%%\n"
    }
   }
  },
  {
   "cell_type": "code",
   "execution_count": null,
   "outputs": [],
   "source": [],
   "metadata": {
    "collapsed": false,
    "pycharm": {
     "name": "#%%\n"
    }
   }
  }
 ],
 "metadata": {
  "kernelspec": {
   "display_name": "Python 3",
   "language": "python",
   "name": "python3"
  },
  "language_info": {
   "codemirror_mode": {
    "name": "ipython",
    "version": 2
   },
   "file_extension": ".py",
   "mimetype": "text/x-python",
   "name": "python",
   "nbconvert_exporter": "python",
   "pygments_lexer": "ipython2",
   "version": "2.7.6"
  }
 },
 "nbformat": 4,
 "nbformat_minor": 0
}