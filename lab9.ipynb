{
 "cells": [
  {
   "cell_type": "markdown",
   "metadata": {},
   "source": [
    "# <center> Zestaw 8\n",
    "## <center> Ryszard Pręcikowski\n",
    "### <center> 401433"
   ]
  },
  {
   "cell_type": "markdown",
   "metadata": {},
   "source": [
    "# Zadanie 1\n"
   ]
  },
  {
   "cell_type": "markdown",
   "metadata": {},
   "source": [
    "## $f(x, y) = x^2 - 5xy + y^2$\n",
    "\n",
    "gradient:\n",
    "$\\nabla f(x, y) =\n",
    "\\begin{pmatrix}\n",
    "2(x-2y) & 2y - 4x \n",
    "\\end{pmatrix}\n",
    "$\n",
    "\n",
    "macierz Hessego:\n",
    "$\n",
    "H = \n",
    "\\begin{pmatrix}\n",
    "2 & -4\\\\\n",
    "-4 & 2\n",
    "\\end{pmatrix}\n",
    "$\n",
    "\n",
    "$det H = -12$\n",
    "\n",
    "$f_{xx} = 2$\n",
    "\n",
    "Punkty w których pochodne się zerują:\n",
    "\n",
    "$p_1 = (0, 0)$\n",
    "\n",
    "punkt $p_1$ to punkt siodłowy"
   ]
  },
  {
   "cell_type": "markdown",
   "metadata": {},
   "source": [
    "## $f(x, y) = x^4 - 4xy + y^4$\n",
    "\n",
    "gradient:\n",
    "$\\nabla f(x, y) =\n",
    "\\begin{pmatrix}\n",
    "4(x^3 - y) & 4y^3 - 4x \n",
    "\\end{pmatrix}\n",
    "$\n",
    "\n",
    "macierz Hessego:\n",
    "$\n",
    "H = \n",
    "\\begin{pmatrix}\n",
    "12x^2 & -4\\\\\n",
    "-4 & 12y^2\n",
    "\\end{pmatrix}\n",
    "$\n",
    "\n",
    "$det H = 144x^2y^2 - 16$\n",
    "\n",
    "$f_{xx} = 12x^2$\n",
    "\n",
    "Punkty w których pochodne się zerują:\n",
    "\n",
    "$p_1 = (0, 0)$\n",
    "\n",
    "$p_2 = (-1, -1)$\n",
    "\n",
    "$p_3 = (1, 1)$\n",
    "\n",
    "punkt $p_1$ to punkt siodłowy (ujemny hessian)\n",
    "\n",
    "dla punktów $p_2$ i $p_3$ $det H > 0$ i $f_{xx} > 0$\n",
    "\n",
    "$p_2$ i $p_3$ to minima lokalne"
   ]
  },
  {
   "cell_type": "markdown",
   "metadata": {},
   "source": [
    "## $f(x, y) = 2x^3 - 3x^2 - 6xy(x-y-1)$\n",
    "\n",
    "gradient:\n",
    "$\\nabla f(x, y) =\n",
    "\\begin{pmatrix}\n",
    "6(x^2 - 2xy - x + y^2 + y) & -6x(x-2y-1)\n",
    "\\end{pmatrix}\n",
    "$\n",
    "\n",
    "macierz Hessego:\n",
    "$\n",
    "H = \n",
    "\\begin{pmatrix}\n",
    "12x - 12 y - 6 & -6(x-y-1) - 6x + 6y\\\\\n",
    "-6(x-y-1) - 6x + 6y & 12x\n",
    "\\end{pmatrix}\n",
    "$\n",
    "\n",
    "$det H = 36(2y+1)(2x-2y-1)$\n",
    "\n",
    "$f_{xx} = 12x - 12y - 6$\n",
    "\n",
    "Punkty w których pochodne się zerują:\n",
    "\n",
    "$p_1 = (0, 0)$\n",
    "\n",
    "$p_2 = (-1, -1)$\n",
    "\n",
    "$p_3 = (1, 0)$\n",
    "\n",
    "$p_4 = (0, -1)$\n",
    "\n",
    "punkty $p_1$ i $p_4$ to punkty siodłowe (hessian jest ujemny)\n",
    "\n",
    "dla punktu $p_2$ $det H > 0$ i $f_{xx} < 0$, więc $p_2$ to maksimum lokalne\n",
    "\n",
    "dla punktu $p_3$ $det H > 0$ i $f_{xx} > 0$, więc $p_3$ to minimum lokalne"
   ]
  },
  {
   "cell_type": "markdown",
   "metadata": {},
   "source": [
    "## $f(x, y) = (x-y)^4 + x^2 - y^2 -2x + 2y + 1$\n",
    "\n",
    "gradient:\n",
    "$\\nabla f(x, y) =\n",
    "\\begin{pmatrix}\n",
    "-2 + 2 x + 4 (x - y)^3 &  2 - 4 (x - y)^3 - 2 y\n",
    "\\end{pmatrix}\n",
    "$\n",
    "\n",
    "macierz Hessego:\n",
    "$\n",
    "H = \n",
    "\\begin{pmatrix}\n",
    "12(x-y)^2 + 2   &   -12(x-y)^2\\\\\n",
    "-12(x-y)^2      &   12(x-y)^2 -2\n",
    "\\end{pmatrix}\n",
    "$\n",
    "\n",
    "$det H = -4$\n",
    "\n",
    "$f_{xx} = 12(x-y)^2 + 2$\n",
    "\n",
    "Punkty w których pochodne się zerują:\n",
    "\n",
    "$p_1 = (1, 1)$\n",
    "\n",
    "punkt $p_1$ to punkt siodłowy (ujemny hessian)"
   ]
  },
  {
   "cell_type": "markdown",
   "metadata": {
    "pycharm": {
     "name": "#%% md\n"
    }
   },
   "source": [
    "# Zadanie 2"
   ]
  },
  {
   "cell_type": "code",
   "execution_count": 251,
   "metadata": {
    "pycharm": {
     "name": "#%%\n"
    },
    "scrolled": false
   },
   "outputs": [
    {
     "name": "stdout",
     "output_type": "stream",
     "text": [
      "\n",
      "starting points: [-1, 1]\n",
      "\n",
      "\n",
      "steepest descent\n",
      "[-1, 1]\n",
      "[-0.99497475  1.        ]\n",
      "[-0.99497475  0.98997476]\n",
      "[-0.989911    0.98997475]\n",
      "[-0.98991101  0.97992382]\n",
      "[-0.98480794  0.97992382]\n",
      "[-0.98480795  0.96984672]\n",
      "[-0.9796647   0.96984671]\n",
      "[-0.97966471  0.95974295]\n",
      "[-0.97448038  0.95974295]\n",
      "[-0.97448039  0.94961204]\n"
     ]
    },
    {
     "data": {
      "image/png": "[encoded data removed]",
      "text/plain": [
       "<Figure size 432x288 with 1 Axes>"
      ]
     },
     "metadata": {
      "needs_background": "light"
     },
     "output_type": "display_data"
    },
    {
     "name": "stdout",
     "output_type": "stream",
     "text": [
      "\n",
      "[-0.97448039  0.94961204]\n",
      "3.898572796588205\n",
      "Newtons method\n",
      "[-1, 1]\n",
      "[ 1. -3.]\n",
      "[1. 1.]\n",
      "[1. 1.]\n",
      "[1. 1.]\n",
      "[1. 1.]\n",
      "[1. 1.]\n",
      "[1. 1.]\n",
      "[1. 1.]\n",
      "[1. 1.]\n",
      "[1. 1.]\n"
     ]
    },
    {
     "data": {
      "image/png": "[encoded data removed]",
      "text/plain": [
       "<Figure size 432x288 with 1 Axes>"
      ]
     },
     "metadata": {
      "needs_background": "light"
     },
     "output_type": "display_data"
    },
    {
     "name": "stdout",
     "output_type": "stream",
     "text": [
      "\n",
      "0.0\n",
      "\n",
      "starting points: [0, 1]\n",
      "\n",
      "\n",
      "steepest descent\n",
      "[0, 1]\n",
      "[9.99998980e-03 1.01973239e-06]\n",
      "[0.1658164  0.00155918]\n",
      "[0.16555873 0.02732652]\n",
      "[0.2155373  0.02782631]\n",
      "[0.21535258 0.0462986 ]\n",
      "[0.24904098 0.04663549]\n",
      "[0.24888863 0.06187081]\n",
      "[0.27488959 0.06213082]\n",
      "[0.2747567  0.07541912]\n",
      "[0.2961744 0.0756333]\n"
     ]
    },
    {
     "data": {
      "image/png": "[encoded data removed]",
      "text/plain": [
       "<Figure size 432x288 with 1 Axes>"
      ]
     },
     "metadata": {
      "needs_background": "light"
     },
     "output_type": "display_data"
    },
    {
     "name": "stdout",
     "output_type": "stream",
     "text": [
      "\n",
      "[0.2961744 0.0756333]\n",
      "0.5099775633372434\n",
      "Newtons method\n",
      "[0, 1]\n",
      "[-0.00502513  0.        ]\n",
      "[ 0.99494975 -0.01002475]\n",
      "[0.99497488 0.989975  ]\n",
      "[1.         0.99997475]\n",
      "[1. 1.]\n",
      "[1. 1.]\n",
      "[1. 1.]\n",
      "[1. 1.]\n",
      "[1. 1.]\n",
      "[1. 1.]\n"
     ]
    },
    {
     "data": {
      "image/png": "[encoded data removed]",
      "text/plain": [
       "<Figure size 432x288 with 1 Axes>"
      ]
     },
     "metadata": {
      "needs_background": "light"
     },
     "output_type": "display_data"
    },
    {
     "name": "stdout",
     "output_type": "stream",
     "text": [
      "\n",
      "0.0\n",
      "\n",
      "starting points: [2, 1]\n",
      "\n",
      "\n",
      "steepest descent\n",
      "[2, 1]\n",
      "[1.10585694 1.22334964]\n",
      "[1.10528981 1.22107861]\n",
      "[1.10487785 1.22118149]\n",
      "[1.10431673 1.21893455]\n",
      "[1.10390838 1.21903653]\n",
      "[1.1033532  1.21681338]\n",
      "[1.10294842 1.21691446]\n",
      "[1.10239912 1.2147148 ]\n",
      "[1.10199788 1.214815  ]\n",
      "[1.10145436 1.21263853]\n"
     ]
    },
    {
     "data": {
      "image/png": "[encoded data removed]",
      "text/plain": [
       "<Figure size 432x288 with 1 Axes>"
      ]
     },
     "metadata": {
      "needs_background": "light"
     },
     "output_type": "display_data"
    },
    {
     "name": "stdout",
     "output_type": "stream",
     "text": [
      "\n",
      "[1.10145436 1.21263853]\n",
      "0.010324702036916693\n",
      "Newtons method\n",
      "[2, 1]\n",
      "[1.99833611 3.99334443]\n",
      "[1.00055248 0.0055331 ]\n",
      "[1.00054972 1.00109974]\n",
      "[1.        0.9999997]\n",
      "[1. 1.]\n",
      "[1. 1.]\n",
      "[1. 1.]\n",
      "[1. 1.]\n",
      "[1. 1.]\n",
      "[1. 1.]\n"
     ]
    },
    {
     "data": {
      "image/png": "[encoded data removed]",
      "text/plain": [
       "<Figure size 432x288 with 1 Axes>"
      ]
     },
     "metadata": {
      "needs_background": "light"
     },
     "output_type": "display_data"
    },
    {
     "name": "stdout",
     "output_type": "stream",
     "text": [
      "\n",
      "0.0\n"
     ]
    }
   ],
   "source": [
    "import matplotlib.pyplot as plt\n",
    "import sympy as sp\n",
    "import numpy as np\n",
    "from numpy.linalg import solve\n",
    "from scipy.optimize import minimize_scalar\n",
    "# from sympy.vector import gradient\n",
    "from pprint import pprint\n",
    "\n",
    "x_1 = sp.Symbol(r\"x_{1}\")\n",
    "x_2 = sp.Symbol(r\"x_{2}\")\n",
    "\n",
    "f = 100*(x_2 - x_1**2)**2 + (1 - x_1)**2\n",
    "def gradient(f, v):\n",
    "    return sp.Matrix([f]).jacobian(v)\n",
    "\n",
    "def steepest_descent(f, starting, num_iterations=10, plot_results=True, show_steps=True):\n",
    "    v = list(sp.ordered(f.free_symbols))\n",
    "    grad = gradient(f, v)\n",
    "    _grad_l = sp.lambdify(v, grad)\n",
    "    grad_l = lambda *x: _grad_l(*x)[0]\n",
    "\n",
    "    x = starting\n",
    "    f_l = sp.lambdify(v, f)\n",
    "    a_s = sp.Symbol('a')\n",
    "\n",
    "    x_v = [[] for _ in range(len(v))]\n",
    "\n",
    "    if show_steps:\n",
    "        print(x)\n",
    "\n",
    "    for i in range(num_iterations):\n",
    "        if plot_results:\n",
    "            for j in range(len(v)):\n",
    "                x_v[j].append(x[j])\n",
    "\n",
    "        d = f_l(*x - a_s * grad_l(*x))\n",
    "        d_l = sp.lambdify(a_s, d)\n",
    "\n",
    "        a = minimize_scalar(d_l)['x']\n",
    "\n",
    "        x = x - a * grad_l(*x)\n",
    "        if show_steps:\n",
    "            print(x)\n",
    "\n",
    "\n",
    "    if plot_results:\n",
    "        for j in range(len(v)):\n",
    "            x_v[j].append(x[j])\n",
    "        for j in range(len(v)):\n",
    "            plt.plot(range(num_iterations+1), x_v[j], label=r'${}$'.format(v[j]))\n",
    "        plt.legend()\n",
    "        plt.show()\n",
    "\n",
    "    if show_steps:\n",
    "        print()\n",
    "        print(x)\n",
    "        print(f_l(*x))\n",
    "\n",
    "    return x\n",
    "\n",
    "\n",
    "def Newtons_method(f, starting, num_iterations=10, print_steps=True, plot_results=True,):\n",
    "    v = list(sp.ordered(f.free_symbols))\n",
    "\n",
    "    grad = gradient(f, v)\n",
    "    hess = sp.hessian(f, v)\n",
    "\n",
    "    _grad_l = sp.lambdify(v, grad)\n",
    "    grad_l = lambda *x: _grad_l(*x)[0]\n",
    "\n",
    "    hess_l = sp.lambdify(v, hess)\n",
    "\n",
    "    x = starting\n",
    "\n",
    "    x_v = [[] for _ in range(len(v))]\n",
    "\n",
    "\n",
    "    if print_steps:\n",
    "        print(x)\n",
    "\n",
    "    for i in range(num_iterations):\n",
    "        if plot_results:\n",
    "            for j in range(len(v)):\n",
    "                x_v[j].append(x[j])\n",
    "\n",
    "        s = solve(hess_l(*x), -grad_l(*x))\n",
    "\n",
    "        x = x + s\n",
    "        if print_steps:\n",
    "            print(x)\n",
    "\n",
    "\n",
    "    if plot_results:\n",
    "        for j in range(len(v)):\n",
    "            x_v[j].append(x[j])\n",
    "        for j in range(len(v)):\n",
    "            plt.plot(range(num_iterations+1), x_v[j], label=r'${}$'.format(v[j]))\n",
    "        plt.legend()\n",
    "        plt.show()\n",
    "\n",
    "    if print_steps:\n",
    "        print()\n",
    "        f_l = sp.lambdify(v, f)\n",
    "        print(f_l(*x))\n",
    "    return x\n",
    "\n",
    "starting=[\n",
    "    [-1, 1],\n",
    "    [0, 1],\n",
    "    [2, 1]\n",
    "]\n",
    "\n",
    "# i = 2\n",
    "# steepest_descent(f, starting[i])\n",
    "# Newtons_method(f, starting[i])\n",
    "\n",
    "for s in starting:\n",
    "    print(\"\\nstarting points: {}\\n\\n\".format(s))\n",
    "    print(\"steepest descent\")\n",
    "    steepest_descent(f, s)\n",
    "    print(\"Newtons method\")\n",
    "    Newtons_method(f, s)"
   ]
  },
  {
   "cell_type": "code",
   "execution_count": null,
   "metadata": {
    "pycharm": {
     "name": "#%%\n"
    }
   },
   "outputs": [],
   "source": []
  }
 ],
 "metadata": {
  "kernelspec": {
   "display_name": "Python 3",
   "language": "python",
   "name": "python3"
  },
  "language_info": {
   "codemirror_mode": {
    "name": "ipython",
    "version": 3
   },
   "file_extension": ".py",
   "mimetype": "text/x-python",
   "name": "python",
   "nbconvert_exporter": "python",
   "pygments_lexer": "ipython3",
   "version": "3.8.6"
  }
 },
 "nbformat": 4,
 "nbformat_minor": 1
}