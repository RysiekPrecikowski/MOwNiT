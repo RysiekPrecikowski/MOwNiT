{
 "cells": [
  {
   "cell_type": "markdown",
   "source": [
    "# <center> Zestaw 7\n",
    "## <center> Ryszard Pręcikowski\n",
    "### <center> 401433"
   ],
   "metadata": {
    "collapsed": false
   }
  },
  {
   "cell_type": "code",
   "execution_count": 4,
   "outputs": [],
   "source": [
    "import matplotlib.pyplot as plt\n",
    "import numpy as np\n",
    "import numpy.linalg as npl\n",
    "from sympy import *\n",
    "from sympy.abc import x\n",
    "from sympy.calculus.util import continuous_domain\n",
    "from typing import List\n",
    "from decimal import Decimal\n",
    "from pprint import  pprint"
   ],
   "metadata": {
    "collapsed": false,
    "pycharm": {
     "name": "#%%\n"
    }
   }
  },
  {
   "cell_type": "code",
   "execution_count": 5,
   "outputs": [],
   "source": [
    "def plot_function(g_i, show = True, a=0, b=3, y_lim=None):\n",
    "    gl = lambdify(x, g_i)\n",
    "    x_v = np.linspace(a, b, 500)\n",
    "    inter = continuous_domain(g_i, x, S.Reals)\n",
    "    not_in = S.Reals - inter\n",
    "\n",
    "    if type(not_in) is FiniteSet:\n",
    "        p = plt.plot([], [], label = g_i)\n",
    "        for idk in not_in:\n",
    "            n_x = x_v[x_v < idk]\n",
    "            x_v = x_v[x_v > idk]\n",
    "\n",
    "            plt.plot(n_x, gl(n_x), c=p[0].get_c())\n",
    "        plt.plot(x_v, gl(x_v), c=p[0].get_c())\n",
    "    else:\n",
    "        x_v = np.array([x_i for x_i in x_v if x_i in inter])\n",
    "        plt.plot(x_v, gl(x_v),label = g_i)\n",
    "\n",
    "    plt.ylim(y_lim)\n",
    "    plt.legend()\n",
    "    plt.grid(True)\n",
    "    plt.xlabel(\"x\")\n",
    "    plt.ylabel('y')\n",
    "    if show:\n",
    "        plt.show()\n",
    "\n",
    "def my_det_3x3(arr: List[List[Decimal]]):\n",
    "    res = Decimal(0)\n",
    "    for i in range(3):\n",
    "        res += arr[0][(0-i) % 3] * arr[1][(1-i) % 3] * arr[2][(2-i) % 3]\n",
    "        res -= arr[2][(0+i) % 3] * arr[1][(1+i) % 3] * arr[0][(2+i) % 3]\n",
    "    return res"
   ],
   "metadata": {
    "collapsed": false,
    "pycharm": {
     "name": "#%%\n"
    }
   }
  },
  {
   "cell_type": "code",
   "execution_count": 6,
   "outputs": [
    {
     "name": "stdout",
     "output_type": "stream",
     "text": [
      "[[0.1 0.2 0.3]\n",
      " [0.4 0.5 0.6]\n",
      " [0.7 0.8 0.9]]\n",
      "6.661338147750926e-18\n"
     ]
    },
    {
     "data": {
      "text/plain": "Decimal('0.000')"
     },
     "execution_count": 6,
     "metadata": {},
     "output_type": "execute_result"
    }
   ],
   "source": [
    "from decimal import Decimal\n",
    "A = np.array([i/10 for i in range(1, 10)]).reshape(3, 3)\n",
    "\n",
    "print(A)\n",
    "print(npl.det(A)) #TAK NA SERIO TO DET = 0 !!!!!!!!!!!!\n",
    "\n",
    "A_exact = [[Decimal(1 + i + (j*3)) / 10 for i in range(3)] for j in range(3)]\n",
    "my_det_3x3(A_exact)"
   ],
   "metadata": {
    "collapsed": false,
    "pycharm": {
     "name": "#%%\n"
    }
   }
  },
  {
   "cell_type": "code",
   "execution_count": 7,
   "outputs": [
    {
     "name": "stdout",
     "output_type": "stream",
     "text": [
      "[[-4.50359963e+15  9.00719925e+15 -4.50359963e+15]\n",
      " [ 9.00719925e+15 -1.80143985e+16  9.00719925e+15]\n",
      " [-4.50359963e+15  9.00719925e+15 -4.50359963e+15]]\n",
      "2.1118968335779856e+16\n"
     ]
    }
   ],
   "source": [
    "A_inv = npl.inv(A)\n",
    "print(A_inv)\n",
    "print(npl.cond(A))\n",
    "\n"
   ],
   "metadata": {
    "collapsed": false,
    "pycharm": {
     "name": "#%%\n"
    }
   }
  },
  {
   "cell_type": "code",
   "execution_count": 47,
   "outputs": [
    {
     "data": {
      "text/plain": "Matrix([\n[             1, {\\epsilon} + 1],\n[1 - {\\epsilon},              1]])",
      "text/latex": "$\\displaystyle \\left[\\begin{matrix}1 & {\\epsilon} + 1\\\\1 - {\\epsilon} & 1\\end{matrix}\\right]$"
     },
     "execution_count": 47,
     "metadata": {},
     "output_type": "execute_result"
    }
   ],
   "source": [
    "from sympy import *\n",
    "eps = Symbol('{\\\\epsilon}')\n",
    "M = Matrix([[1, 1+eps],\n",
    "            [1-eps, 1]])\n",
    "\n",
    "M"
   ],
   "metadata": {
    "collapsed": false,
    "pycharm": {
     "name": "#%%\n"
    }
   }
  },
  {
   "cell_type": "code",
   "execution_count": 48,
   "outputs": [
    {
     "name": "stdout",
     "output_type": "stream",
     "text": [
      "{\\epsilon}**2\n"
     ]
    }
   ],
   "source": [
    "print(M.det())\n",
    "m_det = M.det()\n"
   ],
   "metadata": {
    "collapsed": false,
    "pycharm": {
     "name": "#%%\n"
    }
   }
  },
  {
   "cell_type": "code",
   "execution_count": 40,
   "outputs": [
    {
     "name": "stdout",
     "output_type": "stream",
     "text": [
      "2.220446049250313e-16\n"
     ]
    }
   ],
   "source": [
    "a = 1.0\n",
    "\n",
    "while 1.0 + a > 1.0:\n",
    "    a /= 4.0\n",
    "print(a*4)\n",
    "\n",
    "l, u, _ = M.LUdecomposition()"
   ],
   "metadata": {
    "collapsed": false,
    "pycharm": {
     "name": "#%%\n"
    }
   }
  },
  {
   "cell_type": "code",
   "execution_count": 41,
   "outputs": [
    {
     "data": {
      "text/plain": "Matrix([\n[             1, 0],\n[1 - {\\epsilon}, 1]])",
      "text/latex": "$\\displaystyle \\left[\\begin{matrix}1 & 0\\\\1 - {\\epsilon} & 1\\end{matrix}\\right]$"
     },
     "execution_count": 41,
     "metadata": {},
     "output_type": "execute_result"
    }
   ],
   "source": [
    "l"
   ],
   "metadata": {
    "collapsed": false,
    "pycharm": {
     "name": "#%%\n"
    }
   }
  },
  {
   "cell_type": "code",
   "execution_count": 46,
   "outputs": [
    {
     "data": {
      "text/plain": "Matrix([\n[1, {\\epsilon} + 1],\n[0,  {\\epsilon}**2]])",
      "text/latex": "$\\displaystyle \\left[\\begin{matrix}1 & {\\epsilon} + 1\\\\0 & {\\epsilon}^{2}\\end{matrix}\\right]$"
     },
     "execution_count": 46,
     "metadata": {},
     "output_type": "execute_result"
    }
   ],
   "source": [
    "u.simplify()\n",
    "u"
   ],
   "metadata": {
    "collapsed": false,
    "pycharm": {
     "name": "#%%\n"
    }
   }
  },
  {
   "cell_type": "code",
   "execution_count": 49,
   "outputs": [
    {
     "data": {
      "text/plain": "{\\epsilon}**2",
      "text/latex": "$\\displaystyle {\\epsilon}^{2}$"
     },
     "execution_count": 49,
     "metadata": {},
     "output_type": "execute_result"
    }
   ],
   "source": [
    "u.det()\n"
   ],
   "metadata": {
    "collapsed": false,
    "pycharm": {
     "name": "#%%\n"
    }
   }
  },
  {
   "cell_type": "markdown",
   "source": [
    "tak samo"
   ],
   "metadata": {
    "collapsed": false,
    "pycharm": {
     "name": "#%% md\n"
    }
   }
  }
 ],
 "metadata": {
  "kernelspec": {
   "display_name": "Python 3",
   "language": "python",
   "name": "python3"
  },
  "language_info": {
   "codemirror_mode": {
    "name": "ipython",
    "version": 2
   },
   "file_extension": ".py",
   "mimetype": "text/x-python",
   "name": "python",
   "nbconvert_exporter": "python",
   "pygments_lexer": "ipython2",
   "version": "2.7.6"
  }
 },
 "nbformat": 4,
 "nbformat_minor": 0
}