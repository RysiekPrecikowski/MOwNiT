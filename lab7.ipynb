{
 "cells": [
  {
   "cell_type": "markdown",
   "metadata": {},
   "source": [
    "# <center> Zestaw 7\n",
    "## <center> Ryszard Pręcikowski\n",
    "### <center> 401433"
   ]
  },
  {
   "cell_type": "code",
   "execution_count": 218,
   "metadata": {
    "pycharm": {
     "name": "#%%\n"
    }
   },
   "outputs": [],
   "source": [
    "import matplotlib.pyplot as plt\n",
    "import numpy as np\n",
    "import numpy.linalg as npl\n",
    "from sympy import *\n",
    "from sympy.abc import x\n",
    "from sympy.calculus.util import continuous_domain\n",
    "from typing import List\n",
    "from decimal import Decimal\n",
    "from pprint import  pprint\n",
    "from random import random"
   ]
  },
  {
   "cell_type": "code",
   "execution_count": 3,
   "metadata": {
    "pycharm": {
     "name": "#%%\n"
    }
   },
   "outputs": [],
   "source": [
    "def my_det_3x3(arr: List[List[Decimal]]):\n",
    "    res = Decimal(0)\n",
    "    for i in range(3):\n",
    "        res += arr[0][(0-i) % 3] * arr[1][(1-i) % 3] * arr[2][(2-i) % 3]\n",
    "        res -= arr[2][(0+i) % 3] * arr[1][(1+i) % 3] * arr[0][(2+i) % 3]\n",
    "    return res"
   ]
  },
  {
   "cell_type": "code",
   "execution_count": 91,
   "metadata": {
    "pycharm": {
     "name": "#%%\n"
    }
   },
   "outputs": [],
   "source": [
    "def gauss_elimination_pivoting(A, b, pp=False):\n",
    "    n = len(A)\n",
    "    for i in range(n):\n",
    "        if A[i][i] == 0:\n",
    "            raise Exception(\"PIVOT MUST BE NON ZERO\")\n",
    "        col = [A[j+i][i] for j in range(n-i)]\n",
    "\n",
    "        max_ind = col.index(max(col))\n",
    "        max_ind += i\n",
    "\n",
    "        if max_ind != i:\n",
    "            A[i], A[max_ind], b[i], b[max_ind] = A[max_ind], A[i], b[max_ind], b[i]\n",
    "        print(\"i\", i)\n",
    "        for k in range(i+1, n):\n",
    "            print('k', k)\n",
    "\n",
    "            f = A[k][i] / A[i][i]\n",
    "            for j in range(i, n):\n",
    "                A[k][j] -= A[i][j]*f\n",
    "\n",
    "            b[k] -= b[i]*f\n",
    "\n",
    "            for l, r in enumerate(A):\n",
    "                for v in r:\n",
    "                    if pp:\n",
    "                        print('{: 3.2f}'.format(v), end=' ')\n",
    "                    else:\n",
    "                        print('{: ^9.2e}'.format(v), end=' ')\n",
    "                if pp:\n",
    "                    print('|  {: 3.2f}'.format(b[l]))\n",
    "                else:\n",
    "                    print('|  {: ^9.2e}'.format(b[l]))\n",
    "\n",
    "            print()"
   ]
  },
  {
   "cell_type": "markdown",
   "metadata": {
    "pycharm": {
     "name": "#%% md\n"
    }
   },
   "source": [
    "## Zadanie 1"
   ]
  },
  {
   "cell_type": "code",
   "execution_count": 92,
   "metadata": {
    "pycharm": {
     "name": "#%%\n"
    }
   },
   "outputs": [
    {
     "name": "stdout",
     "output_type": "stream",
     "text": [
      "[[0.1 0.2 0.3]\n",
      " [0.4 0.5 0.6]\n",
      " [0.7 0.8 0.9]]\n"
     ]
    }
   ],
   "source": [
    "A = np.array([i/10 for i in range(1, 10)]).reshape(3, 3)\n",
    "b = np.array([0.1, 0.3, 0.5])\n",
    "print(A)"
   ]
  },
  {
   "cell_type": "code",
   "execution_count": 93,
   "metadata": {
    "pycharm": {
     "name": "#%%\n"
    }
   },
   "outputs": [
    {
     "name": "stdout",
     "output_type": "stream",
     "text": [
      "numpy det 6.661338147750926e-18\n",
      "exact det 0.000\n"
     ]
    }
   ],
   "source": [
    "print(\"numpy det\", npl.det(A)) #TAK NA SERIO TO DET = 0 !!!!!!!!!!!!\n",
    "\n",
    "A_exact = [[Decimal(1 + i + (j*3)) / 10 for i in range(3)] for j in range(3)]\n",
    "print('exact det', my_det_3x3(A_exact))"
   ]
  },
  {
   "cell_type": "markdown",
   "metadata": {},
   "source": [
    "Ten układ równań ma nieskończenie wiele rozwiązań w postaci:\n",
    "\n",
    "$y=- 2z +\\frac13 $\n",
    "\n",
    "$x = z + \\frac13$"
   ]
  },
  {
   "cell_type": "markdown",
   "metadata": {
    "pycharm": {
     "name": "#%% md\n"
    }
   },
   "source": [
    "Eliminacja Gaussa z częściowym przesuwaniem elementu wiodącego nie\n",
    "powiedzie się w momencie obliczania wartości ostatniego wiersza,\n",
    "ponieważ na przekątnej będziemy mieli zero.\n",
    "\n",
    "$\\begin{bmatrix}\n",
    "1 & 2 & 3 & | & 1\\\\\n",
    "4 & 5 & 6 & | & 3\\\\\n",
    "7 & 8 & 9 & | & 5\\\\\n",
    "\\end{bmatrix}$\n",
    "\n",
    "$\\begin{bmatrix}\n",
    "7 & 8 & 9 & | & 5\\\\\n",
    "4 & 5 & 6 & | & 3\\\\\n",
    "1 & 2 & 3 & | & 1\\\\\n",
    "\\end{bmatrix}$\n",
    "\n",
    "$\\begin{bmatrix}\n",
    "7 & 8 & 9 & | & 5\\\\\n",
    "0 & \\frac37 & \\frac67 & | & \\frac17\\\\\n",
    "0 & \\frac67 & \\frac{12}7 & | & \\frac27\\\\\n",
    "\\end{bmatrix}$\n",
    "\n",
    "$\\begin{bmatrix}\n",
    "7 & 8 & 9 & | & 5\\\\\n",
    "0 & \\frac67 & \\frac{12}7 & | & \\frac27\\\\\n",
    "0 & 0 & 0& | & 0\\\\\n",
    "\\end{bmatrix}$"
   ]
  },
  {
   "cell_type": "code",
   "execution_count": 94,
   "metadata": {
    "pycharm": {
     "name": "#%%\n"
    }
   },
   "outputs": [
    {
     "name": "stdout",
     "output_type": "stream",
     "text": [
      "i 0\n",
      "k 1\n",
      "7.00e+00  8.00e+00  9.00e+00  |  5.00e+00 \n",
      "0.00e+00  4.29e-01  8.57e-01  |  1.43e-01 \n",
      "1.00e+00  2.00e+00  3.00e+00  |  1.00e+00 \n",
      "\n",
      "k 2\n",
      "7.00e+00  8.00e+00  9.00e+00  |  5.00e+00 \n",
      "0.00e+00  4.29e-01  8.57e-01  |  1.43e-01 \n",
      "0.00e+00  8.57e-01  1.71e+00  |  2.86e-01 \n",
      "\n",
      "i 1\n",
      "k 2\n",
      "7.00e+00  8.00e+00  9.00e+00  |  5.00e+00 \n",
      "0.00e+00  8.57e-01  1.71e+00  |  2.86e-01 \n",
      "0.00e+00  5.55e-17  1.11e-16  |  2.78e-16 \n",
      "\n",
      "i 2\n"
     ]
    }
   ],
   "source": [
    "gauss_elimination_pivoting([[(1 + i + (j*3)) for i in range(3)] for j in range(3)],\n",
    "                           [1, 3, 5])"
   ]
  },
  {
   "cell_type": "code",
   "execution_count": 98,
   "metadata": {
    "pycharm": {
     "name": "#%%\n"
    }
   },
   "outputs": [
    {
     "name": "stdout",
     "output_type": "stream",
     "text": [
      "x0 =  0.16146\n",
      "x1 =  0.67708\n",
      "x2 = -0.17188\n"
     ]
    }
   ],
   "source": [
    "for i, v in enumerate(npl.solve(A, b)):\n",
    "    print('x'+str(i) , '=', '{: .5f}'.format(v))"
   ]
  },
  {
   "cell_type": "markdown",
   "metadata": {
    "pycharm": {
     "name": "#%% md\n"
    }
   },
   "source": [
    "Wyniki zgadzają się z rozwiązaniem uzyskanym dla dokładnej arytmetyki,\n",
    "jest to szczególne rozwiązanie tego układu z dokładnością do około 16 miejsca po przecinku."
   ]
  },
  {
   "cell_type": "markdown",
   "metadata": {
    "pycharm": {
     "name": "#%% md\n"
    }
   },
   "source": [
    "ponieważ liczby te nie są reprezentowane dokładnie w pamięci komputera, to macierz A nie jest macierzą osobliwą."
   ]
  },
  {
   "cell_type": "code",
   "execution_count": 103,
   "metadata": {
    "pycharm": {
     "name": "#%%\n"
    }
   },
   "outputs": [
    {
     "name": "stdout",
     "output_type": "stream",
     "text": [
      "inverse matrix\n",
      "[[-4.50359963e+15  9.00719925e+15 -4.50359963e+15]\n",
      " [ 9.00719925e+15 -1.80143985e+16  9.00719925e+15]\n",
      " [-4.50359963e+15  9.00719925e+15 -4.50359963e+15]]\n",
      "\n",
      "cond(A) =  2.1118968335779856e+16\n",
      "\n",
      "accuracy:  16\n"
     ]
    }
   ],
   "source": [
    "A_inv = npl.inv(A)\n",
    "print(\"inverse matrix\")\n",
    "print(A_inv)\n",
    "print(\"\\ncond(A) = \", npl.cond(A))\n",
    "print(\"\\naccuracy: \", floor(np.log10(npl.cond(A))))"
   ]
  },
  {
   "cell_type": "markdown",
   "metadata": {
    "pycharm": {
     "name": "#%% md\n"
    }
   },
   "source": [
    "## Zadanie 2"
   ]
  },
  {
   "cell_type": "code",
   "execution_count": 104,
   "metadata": {
    "pycharm": {
     "name": "#%%\n"
    }
   },
   "outputs": [
    {
     "data": {
      "text/latex": [
       "$\\displaystyle \\left[\\begin{matrix}1 & {\\epsilon} + 1\\\\1 - {\\epsilon} & 1\\end{matrix}\\right]$"
      ],
      "text/plain": [
       "Matrix([\n",
       "[             1, {\\epsilon} + 1],\n",
       "[1 - {\\epsilon},              1]])"
      ]
     },
     "execution_count": 104,
     "metadata": {},
     "output_type": "execute_result"
    }
   ],
   "source": [
    "eps = Symbol('{\\\\epsilon}')\n",
    "M = Matrix([[1, 1+eps],\n",
    "            [1-eps, 1]])\n",
    "\n",
    "M"
   ]
  },
  {
   "cell_type": "code",
   "execution_count": 110,
   "metadata": {
    "pycharm": {
     "name": "#%%\n"
    }
   },
   "outputs": [
    {
     "name": "stdout",
     "output_type": "stream",
     "text": [
      "det(M) =\n"
     ]
    },
    {
     "data": {
      "text/latex": [
       "$\\displaystyle {\\epsilon}^{2}$"
      ],
      "text/plain": [
       "{\\epsilon}**2"
      ]
     },
     "execution_count": 110,
     "metadata": {},
     "output_type": "execute_result"
    }
   ],
   "source": [
    "m_det = M.det()\n",
    "print(\"det(M) =\")\n",
    "m_det"
   ]
  },
  {
   "cell_type": "code",
   "execution_count": 116,
   "metadata": {
    "pycharm": {
     "name": "#%%\n"
    }
   },
   "outputs": [
    {
     "name": "stdout",
     "output_type": "stream",
     "text": [
      "(a, b) = (-2.220446049250313e-16, 2.220446049250313e-16)\n"
     ]
    }
   ],
   "source": [
    "a = -1.0\n",
    "while -1.0 + a < -1.0:\n",
    "    a /= 4.0\n",
    "a*=4\n",
    "\n",
    "b = 1.0\n",
    "while 1.0 + b > 1.0:\n",
    "    b /= 4.0\n",
    "b*=4\n",
    "\n",
    "print('(a, b) = ({}, {})'.format(a, b))"
   ]
  },
  {
   "cell_type": "code",
   "execution_count": 117,
   "metadata": {
    "pycharm": {
     "name": "#%%\n"
    }
   },
   "outputs": [],
   "source": [
    "l, u, _ = M.LUdecomposition()\n",
    "l.simplify()\n",
    "u.simplify()"
   ]
  },
  {
   "cell_type": "code",
   "execution_count": 118,
   "metadata": {
    "pycharm": {
     "name": "#%%\n"
    }
   },
   "outputs": [
    {
     "data": {
      "text/latex": [
       "$\\displaystyle \\left[\\begin{matrix}1 & 0\\\\1 - {\\epsilon} & 1\\end{matrix}\\right]$"
      ],
      "text/plain": [
       "Matrix([\n",
       "[             1, 0],\n",
       "[1 - {\\epsilon}, 1]])"
      ]
     },
     "execution_count": 118,
     "metadata": {},
     "output_type": "execute_result"
    }
   ],
   "source": [
    "l"
   ]
  },
  {
   "cell_type": "code",
   "execution_count": 119,
   "metadata": {
    "pycharm": {
     "name": "#%%\n"
    }
   },
   "outputs": [
    {
     "data": {
      "text/latex": [
       "$\\displaystyle \\left[\\begin{matrix}1 & {\\epsilon} + 1\\\\0 & {\\epsilon}^{2}\\end{matrix}\\right]$"
      ],
      "text/plain": [
       "Matrix([\n",
       "[1, {\\epsilon} + 1],\n",
       "[0,  {\\epsilon}**2]])"
      ]
     },
     "execution_count": 119,
     "metadata": {},
     "output_type": "execute_result"
    }
   ],
   "source": [
    "u"
   ]
  },
  {
   "cell_type": "code",
   "execution_count": 121,
   "metadata": {
    "pycharm": {
     "name": "#%%\n"
    }
   },
   "outputs": [
    {
     "name": "stdout",
     "output_type": "stream",
     "text": [
      "det(U) =\n"
     ]
    },
    {
     "data": {
      "text/latex": [
       "$\\displaystyle {\\epsilon}^{2}$"
      ],
      "text/plain": [
       "{\\epsilon}**2"
      ]
     },
     "execution_count": 121,
     "metadata": {},
     "output_type": "execute_result"
    }
   ],
   "source": [
    "print(\"det(U) =\")\n",
    "u.det()"
   ]
  },
  {
   "cell_type": "markdown",
   "metadata": {},
   "source": [
    "Macierz $U$ będzie osobliwa dla takiego samego zakresu wartości co macierz A."
   ]
  },
  {
   "cell_type": "markdown",
   "metadata": {
    "pycharm": {
     "name": "#%% md\n"
    }
   },
   "source": [
    "## zadanie 3"
   ]
  },
  {
   "cell_type": "code",
   "execution_count": 131,
   "metadata": {
    "pycharm": {
     "name": "#%%\n"
    }
   },
   "outputs": [],
   "source": [
    "A = np.array([[3, 2, -1],\n",
    "              [2, -2, 4],\n",
    "              [-1, 0.5, -1]])\n",
    "b = np.array([1, -2, 0])"
   ]
  },
  {
   "cell_type": "code",
   "execution_count": 134,
   "metadata": {
    "pycharm": {
     "name": "#%%\n"
    }
   },
   "outputs": [],
   "source": [
    "exact = np.array([1, -2, -2])"
   ]
  },
  {
   "cell_type": "code",
   "execution_count": 234,
   "metadata": {
    "pycharm": {
     "name": "#%%\n"
    },
    "scrolled": false
   },
   "outputs": [
    {
     "name": "stdout",
     "output_type": "stream",
     "text": [
      "\n",
      "********************************************************************************\n",
      "\n",
      "array([[1, 0, 0],\n",
      "       [0, 1, 0],\n",
      "       [0, 0, 1]])\n",
      "\n",
      "\n",
      "cond(DA) = 32.713              \n",
      "\n",
      "x0 =  0.9999999999999994\n",
      "x1 = -1.9999999999999984\n",
      "x2 = -1.9999999999999984\n",
      "\n",
      "absolute error:\n",
      "x0 =  5.5511151231e-16\n",
      "x1 =  1.5543122345e-15\n",
      "x2 =  1.5543122345e-15\n",
      "\n",
      "relative error:\n",
      "x0 =  5.5511151231e-16\n",
      "x1 =  7.7715611724e-16\n",
      "x2 =  7.7715611724e-16\n",
      "\n",
      "residual:\n",
      "x0 =  2.2204460493e-16\n",
      "x1 =  1.7763568394e-15\n",
      "x2 =  2.2204460493e-16\n",
      "\n",
      "********************************************************************************\n",
      "\n",
      "array([[0.125, 0.   , 0.   ],\n",
      "       [0.   , 0.5  , 0.   ],\n",
      "       [0.   , 0.   , 0.25 ]])\n",
      "\n",
      "\n",
      "cond(DA) = 62.381              \n",
      "\n",
      "x0 =  1.0000000000000009\n",
      "x1 = -2.0000000000000018\n",
      "x2 = -2.0000000000000013\n",
      "\n",
      "absolute error:\n",
      "x0 =  8.8817841970e-16\n",
      "x1 =  1.7763568394e-15\n",
      "x2 =  1.3322676296e-15\n",
      "\n",
      "relative error:\n",
      "x0 =  8.8817841970e-16\n",
      "x1 =  8.8817841970e-16\n",
      "x2 =  6.6613381478e-16\n",
      "\n",
      "residual:\n",
      "x0 =  4.4408920985e-16\n",
      "x1 =  0.0000000000e+00\n",
      "x2 =  4.4408920985e-16\n",
      "\n",
      "********************************************************************************\n",
      "\n",
      "array([[-1.e+05,  0.e+00,  0.e+00],\n",
      "       [ 0.e+00,  1.e-03,  0.e+00],\n",
      "       [ 0.e+00,  0.e+00,  1.e-05]])\n",
      "\n",
      "\n",
      "cond(DA) = 227255171526.036    \n",
      "\n",
      "x0 =  0.9999999999999992\n",
      "x1 = -1.999999999999998\n",
      "x2 = -1.999999999999998\n",
      "\n",
      "absolute error:\n",
      "x0 =  7.7715611724e-16\n",
      "x1 =  1.9984014443e-15\n",
      "x2 =  1.9984014443e-15\n",
      "\n",
      "relative error:\n",
      "x0 =  7.7715611724e-16\n",
      "x1 =  9.9920072216e-16\n",
      "x2 =  9.9920072216e-16\n",
      "\n",
      "residual:\n",
      "x0 =  2.2204460493e-16\n",
      "x1 =  2.6645352591e-15\n",
      "x2 =  2.2204460493e-16\n",
      "\n",
      "********************************************************************************\n",
      "\n",
      "array([[-3.90625e-03,  0.00000e+00,  0.00000e+00],\n",
      "       [ 0.00000e+00, -2.56000e+10,  0.00000e+00],\n",
      "       [ 0.00000e+00,  0.00000e+00,  1.25000e+02]])\n",
      "\n",
      "\n",
      "cond(DA) = 23930364360669.551  \n",
      "\n",
      "x0 =  0.9999999999999994\n",
      "x1 = -2.0000000000000013\n",
      "x2 = -2.0000000000000004\n",
      "\n",
      "absolute error:\n",
      "x0 =  5.5511151231e-16\n",
      "x1 =  1.3322676296e-15\n",
      "x2 =  4.4408920985e-16\n",
      "\n",
      "relative error:\n",
      "x0 =  5.5511151231e-16\n",
      "x1 =  6.6613381478e-16\n",
      "x2 =  2.2204460493e-16\n",
      "\n",
      "residual:\n",
      "x0 =  3.9968028887e-15\n",
      "x1 =  0.0000000000e+00\n",
      "x2 =  4.4408920985e-16\n"
     ]
    }
   ],
   "source": [
    "relative_error = lambda true_val, val: abs((true_val - val)/true_val)\n",
    "absolute_error = lambda true_val, val: abs((true_val - val))\n",
    "residual = lambda solution: abs(b-A@solution)\n",
    "\n",
    "relative_errors = []\n",
    "absolute_errors = []\n",
    "residuals = []\n",
    "\n",
    "D_o = [np.diag([1, 1, 1]),\n",
    "       np.diag([0.125, 0.5, 0.25]),\n",
    "       np.diag([-10**5, 10**-3, 10**-5]),\n",
    "       np.diag([-2**-8, -20**8, 5**3])]\n",
    "\n",
    "for D in D_o:\n",
    "    print('\\n'+'*'*80+'\\n')\n",
    "    pprint(D)\n",
    "    print(\"\\n\\ncond(DA) = {:<20.3f}\\n\".format(npl.cond(D @ A)))\n",
    "\n",
    "    curr = npl.solve(D @ A , D @ b)\n",
    "    for i, v in enumerate(curr):\n",
    "        print(\"x{} = {: }\".format(i, v))\n",
    "\n",
    "    print(\"\\nabsolute error:\")\n",
    "    for i, a_error in enumerate(absolute_error(exact, curr)):\n",
    "        print(\"x{} = {: .10e}\".format(i, a_error))\n",
    "        absolute_errors.append(a_error)\n",
    "\n",
    "    print(\"\\nrelative error:\")\n",
    "    for i, r_error in enumerate(relative_error(exact, curr)):\n",
    "        print(\"x{} = {: .10e}\".format(i, r_error))\n",
    "        relative_errors.append(r_error)\n",
    "\n",
    "    print(\"\\nresidual:\")\n",
    "    for i, residu in enumerate(residual( curr)):\n",
    "        print(\"x{} = {: .10e}\".format(i, residu))\n",
    "        residuals.append(residu)\n",
    "\n",
    "for i in range(30):\n",
    "    D = np.diag([(i+1+1*random())**(i+2), -(i+2*(i+random()))**(i+1), (4*(random()*2 + 2))**-(i+1)])\n",
    "    curr = npl.solve(D @ A , D @ b)\n",
    "\n",
    "    for i, a_error in enumerate(absolute_error(exact, curr)):\n",
    "        absolute_errors.append(a_error)\n",
    "    for i, r_error in enumerate(relative_error(exact, curr)):\n",
    "        relative_errors.append(r_error)\n",
    "    for i, residu in enumerate(residual( curr)):\n",
    "        residuals.append(residu)"
   ]
  },
  {
   "cell_type": "code",
   "execution_count": 235,
   "metadata": {
    "pycharm": {
     "name": "#%%\n"
    }
   },
   "outputs": [
    {
     "data": {
      "image/png": "[encoded data removed]",
      "text/plain": [
       "<Figure size 432x288 with 1 Axes>"
      ]
     },
     "metadata": {
      "needs_background": "light"
     },
     "output_type": "display_data"
    }
   ],
   "source": [
    "relative_errors, residuals = zip(*sorted(zip(relative_errors, residuals), key=lambda v:v[1]))\n",
    "\n",
    "plt.plot(residuals, relative_errors)\n",
    "plt.ylabel('relative errors')\n",
    "plt.xlabel('residuals')\n",
    "plt.show()"
   ]
  },
  {
   "cell_type": "code",
   "execution_count": 146,
   "metadata": {
    "pycharm": {
     "name": "#%%\n"
    }
   },
   "outputs": [],
   "source": []
  },
  {
   "cell_type": "code",
   "execution_count": null,
   "metadata": {
    "pycharm": {
     "name": "#%%\n"
    }
   },
   "outputs": [],
   "source": []
  }
 ],
 "metadata": {
  "kernelspec": {
   "display_name": "Python 3",
   "language": "python",
   "name": "python3"
  },
  "language_info": {
   "codemirror_mode": {
    "name": "ipython",
    "version": 3
   },
   "file_extension": ".py",
   "mimetype": "text/x-python",
   "name": "python",
   "nbconvert_exporter": "python",
   "pygments_lexer": "ipython3",
   "version": "3.8.6"
  }
 },
 "nbformat": 4,
 "nbformat_minor": 1
}