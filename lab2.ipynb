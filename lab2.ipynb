{
 "cells": [
  {
   "cell_type": "code",
   "execution_count": 58,
   "metadata": {
    "collapsed": true
   },
   "outputs": [],
   "source": [
    "import numpy as np\n",
    "import matplotlib as mpl\n",
    "import matplotlib.pyplot as plt"
   ]
  },
  {
   "cell_type": "code",
   "execution_count": 96,
   "metadata": {},
   "outputs": [
    {
     "name": "stdout",
     "output_type": "stream",
     "text": [
      "[[0.10336816 0.47787623 0.87665138]\n",
      " [0.23243811 0.89702031 0.23468542]\n",
      " [0.73551252 0.44119375 0.86090602]]\n",
      "\n",
      "[[-1.54613804  0.05695557  1.55888956]\n",
      " [ 0.06356798  1.28507443 -0.41504552]\n",
      " [ 1.28836142 -0.70722974  0.04243517]]\n",
      "\n",
      "[[0.44652594 0.12147119 0.33777739]\n",
      " [0.35488616 0.09654186 0.26845589]\n",
      " [0.02592149 0.00705158 0.01960848]]\n",
      "\n",
      "[[0.54989409 0.59934743 1.21442876]\n",
      " [0.58732427 0.99356217 0.50314132]\n",
      " [0.76143402 0.44824533 0.88051449]]\n",
      "\n",
      "[[-2.01451485 -0.0515885   2.80795046]\n",
      " [ 0.41585784  1.36671591 -1.35452735]\n",
      " [ 1.53037094 -0.65114519 -0.60295253]]\n"
     ]
    }
   ],
   "source": [
    "n = 3\n",
    "A = np.random.rand(n,n)\n",
    "A_inv = np.linalg.inv(A)\n",
    "\n",
    "u = np.random.rand(n,1)\n",
    "v = np.random.rand(n,1)\n",
    "\n",
    "print(A)\n",
    "print()\n",
    "\n",
    "print(A_inv)\n",
    "print()\n",
    "print(u*v.T)\n",
    "# print(np.outer(u,v)) # to to samo co z mnozeniem\n",
    "print()\n",
    "# print(np.add(A, u*v.T))\n",
    "print(A + u*v.T)\n",
    "print()\n",
    "print(np.linalg.inv(A + u*v.T))\n"
   ]
  },
  {
   "cell_type": "code",
   "execution_count": 111,
   "metadata": {},
   "outputs": [],
   "source": [
    "def sherman_morrison(A, u, v):\n",
    "    A_inv = np.linalg.inv(A)\n",
    "    upp = A_inv * u * v.T * A_inv\n",
    "    down = 1.0 + v.T * A_inv * u\n",
    "    \n",
    "    print(upp)\n",
    "    print()\n",
    "    print(down)\n",
    " \n",
    "    print(upp/down)\n",
    "#     return A_inv - upp/down"
   ]
  },
  {
   "cell_type": "code",
   "execution_count": 112,
   "metadata": {},
   "outputs": [
    {
     "name": "stdout",
     "output_type": "stream",
     "text": [
      "[[1.06743939e+00 3.94044892e-04 8.20845211e-01]\n",
      " [1.43405516e-03 1.59430802e-01 4.62449604e-02]\n",
      " [4.30264419e-02 3.52701769e-03 3.53098452e-05]]\n",
      "\n",
      "[[0.30960926 1.00691846 1.52655764]\n",
      " [1.0225594  1.12406348 0.88857858]\n",
      " [1.03339625 0.99501291 1.00083209]]\n",
      "[[3.44769852e+00 3.91337439e-04 5.37709935e-01]\n",
      " [1.40241747e-03 1.41834341e-01 5.20437486e-02]\n",
      " [4.16359570e-02 3.54469540e-03 3.52804887e-05]]\n"
     ]
    }
   ],
   "source": [
    "sherman_morrison(A, u, v)"
   ]
  },
  {
   "cell_type": "code",
   "execution_count": null,
   "metadata": {
    "collapsed": true
   },
   "outputs": [],
   "source": []
  }
 ],
 "metadata": {
  "kernelspec": {
   "display_name": "Python 3",
   "language": "python",
   "name": "python3"
  },
  "language_info": {
   "codemirror_mode": {
    "name": "ipython",
    "version": 3
   },
   "file_extension": ".py",
   "mimetype": "text/x-python",
   "name": "python",
   "nbconvert_exporter": "python",
   "pygments_lexer": "ipython3",
   "version": "3.6.10"
  }
 },
 "nbformat": 4,
 "nbformat_minor": 2
}
